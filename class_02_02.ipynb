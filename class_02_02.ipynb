{
  "nbformat": 4,
  "nbformat_minor": 0,
  "metadata": {
    "kernelspec": {
      "display_name": "Python 3",
      "language": "python",
      "name": "python3"
    },
    "language_info": {
      "codemirror_mode": {
        "name": "ipython",
        "version": 3
      },
      "file_extension": ".py",
      "mimetype": "text/x-python",
      "name": "python",
      "nbconvert_exporter": "python",
      "pygments_lexer": "ipython3",
      "version": "3.7.3"
    },
    "colab": {
      "name": "class_02_02.ipynb",
      "version": "0.3.2",
      "provenance": []
    }
  },
  "cells": [
    {
      "cell_type": "markdown",
      "metadata": {
        "id": "75e200iXPTP6",
        "colab_type": "text"
      },
      "source": [
        "# 리스트"
      ]
    },
    {
      "cell_type": "markdown",
      "metadata": {
        "id": "NANbc7EXPTP8",
        "colab_type": "text"
      },
      "source": [
        "## 리스트란?\n",
        "<pre>\n",
        "우리는 앞서 하나의 값을 저장한 변수를 보았습니다.\n",
        "하지만 다양한 값을 담아야 할 경우는 어떻게 해야 할까요?\n",
        "\n",
        "리스트는\n",
        "여러 값을 담을 수 있는 변수를 말합니다.\n",
        "가방 = [책, 노트, 필통]\n",
        "같이요.\n",
        "그러면 리스트를 만들어 볼까요?"
      ]
    },
    {
      "cell_type": "markdown",
      "metadata": {
        "id": "FrOV46OmPTP9",
        "colab_type": "text"
      },
      "source": [
        "### 1.리스트 만들기\n",
        "만드는 형식은 두 가지 인데 하나씩 해보죠."
      ]
    },
    {
      "cell_type": "markdown",
      "metadata": {
        "id": "Lz0ZFaUxPTP_",
        "colab_type": "text"
      },
      "source": [
        "#### 리스트 만들기 방법1\n",
        "<pre>\n",
        "리스트명 = [ ]\n",
        "\n",
        "리스트는 대괄호로 이루어져 있습니다.\n",
        "그 안에 값이 없는 빈 리스트 일 수도 있지요.\n",
        "다양한 값을 넣어서 리스트를 만들 수도 있어요.\n",
        "\n",
        "리스트 명은 어떤 것이어도 상관없습니다.\n",
        "다만 class, def, if, elif, else, while 등은 사용할 수 없습니다.\n",
        "숫자가 맨 처음에 오는 것도 안되요."
      ]
    },
    {
      "cell_type": "code",
      "metadata": {
        "id": "s-stUa9GPTQA",
        "colab_type": "code",
        "colab": {}
      },
      "source": [
        "# list1 이라는 빈 리스트를 만들어 보겠습니다."
      ],
      "execution_count": 0,
      "outputs": []
    },
    {
      "cell_type": "code",
      "metadata": {
        "id": "dd-57MedPTQF",
        "colab_type": "code",
        "colab": {}
      },
      "source": [
        "list1 = []"
      ],
      "execution_count": 0,
      "outputs": []
    },
    {
      "cell_type": "code",
      "metadata": {
        "id": "RcbDAY6mPTQJ",
        "colab_type": "code",
        "colab": {}
      },
      "source": [
        "# list1 이라는 이름의 리스트를 만들었습니다.\n",
        "# 이를 출력해 볼까요?"
      ],
      "execution_count": 0,
      "outputs": []
    },
    {
      "cell_type": "code",
      "metadata": {
        "id": "jDzzJuFQPTQM",
        "colab_type": "code",
        "colab": {},
        "outputId": "8dee2700-f0cc-4e2f-d4a3-9a74ac8205e6"
      },
      "source": [
        "print(list1)"
      ],
      "execution_count": 0,
      "outputs": [
        {
          "output_type": "stream",
          "text": [
            "[]\n"
          ],
          "name": "stdout"
        }
      ]
    },
    {
      "cell_type": "code",
      "metadata": {
        "id": "PY2f6iw6PTQR",
        "colab_type": "code",
        "colab": {}
      },
      "source": [
        "# list1에는 아무 값도 넣지 않았으므로 빈 리스트가 보이는 것을 확인 할 수 있습니다.\n",
        "# list2를 만들되 값으로 1, '철수', True를 넣어서 만들어 봅시다."
      ],
      "execution_count": 0,
      "outputs": []
    },
    {
      "cell_type": "code",
      "metadata": {
        "id": "O3jGVjjgPTQU",
        "colab_type": "code",
        "colab": {}
      },
      "source": [
        "list2 = [1, '철수', True]"
      ],
      "execution_count": 0,
      "outputs": []
    },
    {
      "cell_type": "code",
      "metadata": {
        "id": "dB4TFTb8PTQX",
        "colab_type": "code",
        "colab": {}
      },
      "source": [
        "# 만든 list2를 출력해 볼까요?"
      ],
      "execution_count": 0,
      "outputs": []
    },
    {
      "cell_type": "code",
      "metadata": {
        "id": "TtRQaUjbPTQa",
        "colab_type": "code",
        "colab": {},
        "outputId": "f8b552b8-be8b-4a4f-ec6b-a7ed09e535ac"
      },
      "source": [
        "print(list2)"
      ],
      "execution_count": 0,
      "outputs": [
        {
          "output_type": "stream",
          "text": [
            "[1, '철수', True]\n"
          ],
          "name": "stdout"
        }
      ]
    },
    {
      "cell_type": "code",
      "metadata": {
        "id": "cxtzzRO6PTQf",
        "colab_type": "code",
        "colab": {}
      },
      "source": [
        "# 값이 잘 들어가 있는 것을 확인 할 수 있습니다."
      ],
      "execution_count": 0,
      "outputs": []
    },
    {
      "cell_type": "markdown",
      "metadata": {
        "id": "V_V-7TM1PTQi",
        "colab_type": "text"
      },
      "source": [
        "#### 리스트 만들기 방법2\n",
        "리스트 이름 = list()"
      ]
    },
    {
      "cell_type": "code",
      "metadata": {
        "id": "tbXcQlcvPTQk",
        "colab_type": "code",
        "colab": {}
      },
      "source": [
        "# 위 방법으로 list3를 만들어 볼까요?"
      ],
      "execution_count": 0,
      "outputs": []
    },
    {
      "cell_type": "code",
      "metadata": {
        "id": "UEIrBIwWPTQn",
        "colab_type": "code",
        "colab": {}
      },
      "source": [
        "list3 = list()"
      ],
      "execution_count": 0,
      "outputs": []
    },
    {
      "cell_type": "code",
      "metadata": {
        "id": "ycPVYtMtX6Bn",
        "colab_type": "code",
        "colab": {
          "base_uri": "https://localhost:8080/",
          "height": 34
        },
        "outputId": "d41f8da1-fd5b-471d-fe8e-b1e00ea6a274"
      },
      "source": [
        "type(list3)"
      ],
      "execution_count": 5,
      "outputs": [
        {
          "output_type": "execute_result",
          "data": {
            "text/plain": [
              "list"
            ]
          },
          "metadata": {
            "tags": []
          },
          "execution_count": 5
        }
      ]
    },
    {
      "cell_type": "code",
      "metadata": {
        "id": "o0RiwoyzPTQp",
        "colab_type": "code",
        "colab": {}
      },
      "source": [
        "# 만든 list3를 출력해 봅시다."
      ],
      "execution_count": 0,
      "outputs": []
    },
    {
      "cell_type": "code",
      "metadata": {
        "id": "wBVf1MXuPTQs",
        "colab_type": "code",
        "colab": {},
        "outputId": "de2e7248-c8a2-4308-daf1-3df0d4712234"
      },
      "source": [
        "print(list3)"
      ],
      "execution_count": 0,
      "outputs": [
        {
          "output_type": "stream",
          "text": [
            "[]\n"
          ],
          "name": "stdout"
        }
      ]
    },
    {
      "cell_type": "code",
      "metadata": {
        "id": "16lmyyyPPTQv",
        "colab_type": "code",
        "colab": {}
      },
      "source": [
        "# 빈 리스트가 뜨는 것을 확인 할 수 있습니다.\n",
        "# 리스트를 만들어주는 일을 하는 list() 라는 함수를 이용해서 만들어 보았습니다.\n",
        "# 리스트에 값을 넣어서 만들 수도 있습니다.\n",
        "# list4를 '철수'를 넣어서 만들어 봅시다."
      ],
      "execution_count": 0,
      "outputs": []
    },
    {
      "cell_type": "code",
      "metadata": {
        "id": "HUd0eOIRPTQy",
        "colab_type": "code",
        "colab": {}
      },
      "source": [
        "list4 = list('철수')"
      ],
      "execution_count": 0,
      "outputs": []
    },
    {
      "cell_type": "code",
      "metadata": {
        "id": "S9plyejRPTQ0",
        "colab_type": "code",
        "colab": {}
      },
      "source": [
        "# list4를 출력해 볼까요?"
      ],
      "execution_count": 0,
      "outputs": []
    },
    {
      "cell_type": "code",
      "metadata": {
        "id": "cgljtbyEPTQ3",
        "colab_type": "code",
        "colab": {},
        "outputId": "a2afbcef-b4fc-4ce3-8955-6d78262c6b25"
      },
      "source": [
        "print(list4)"
      ],
      "execution_count": 0,
      "outputs": [
        {
          "output_type": "stream",
          "text": [
            "['철', '수']\n"
          ],
          "name": "stdout"
        }
      ]
    },
    {
      "cell_type": "code",
      "metadata": {
        "id": "g8xH5K2TPTQ6",
        "colab_type": "code",
        "colab": {}
      },
      "source": [
        "# 우리가 원했던건 '철수'인데 '철'과 '수'가 나왔네요.\n",
        "# 우리가 원하는 형태인 '철수'를 넣으려면 어떻게 해야할까요?\n",
        "# list4에 ['철수']를 넣어 만들어 봅시다."
      ],
      "execution_count": 0,
      "outputs": []
    },
    {
      "cell_type": "code",
      "metadata": {
        "id": "1C6sB9iGPTRE",
        "colab_type": "code",
        "colab": {}
      },
      "source": [
        "list4 = list(['철수'])"
      ],
      "execution_count": 0,
      "outputs": []
    },
    {
      "cell_type": "code",
      "metadata": {
        "id": "mesDXAjXPTRP",
        "colab_type": "code",
        "colab": {}
      },
      "source": [
        "# 다시 list4를 출력해 볼까요?"
      ],
      "execution_count": 0,
      "outputs": []
    },
    {
      "cell_type": "code",
      "metadata": {
        "id": "9SPtGs-_PTRV",
        "colab_type": "code",
        "colab": {},
        "outputId": "38bee349-0ff7-4b63-abfe-ee4ae122daae"
      },
      "source": [
        "print(list4)"
      ],
      "execution_count": 0,
      "outputs": [
        {
          "output_type": "stream",
          "text": [
            "['철수']\n"
          ],
          "name": "stdout"
        }
      ]
    },
    {
      "cell_type": "code",
      "metadata": {
        "id": "EjvcZ8Y-PTRb",
        "colab_type": "code",
        "colab": {}
      },
      "source": [
        "# 원하는 대로 '철수'가 들어가 있는 것을 확인할 수 있습니다.\n",
        "# 그러면 list5를 만들어서 [1, '철수', True]를 넣어서 만들어 볼까요?"
      ],
      "execution_count": 0,
      "outputs": []
    },
    {
      "cell_type": "code",
      "metadata": {
        "id": "WMgTzCFfPTRg",
        "colab_type": "code",
        "colab": {}
      },
      "source": [
        "list5 = list([1, '철수', True])"
      ],
      "execution_count": 0,
      "outputs": []
    },
    {
      "cell_type": "code",
      "metadata": {
        "id": "LkKoawtJPTRl",
        "colab_type": "code",
        "colab": {}
      },
      "source": [
        "# list5를 출력해서 확인해 볼까요?"
      ],
      "execution_count": 0,
      "outputs": []
    },
    {
      "cell_type": "code",
      "metadata": {
        "id": "RLRoWRsIPTRr",
        "colab_type": "code",
        "colab": {},
        "outputId": "1f53cff9-2aef-4d53-e2d5-3ae16c4b5cce"
      },
      "source": [
        "print(list5)"
      ],
      "execution_count": 0,
      "outputs": [
        {
          "output_type": "stream",
          "text": [
            "[1, '철수', True]\n"
          ],
          "name": "stdout"
        }
      ]
    },
    {
      "cell_type": "code",
      "metadata": {
        "id": "CHYoRoFHPTRw",
        "colab_type": "code",
        "colab": {}
      },
      "source": [
        "# 리스트 5가 잘 만들어지는 것이 보이네요."
      ],
      "execution_count": 0,
      "outputs": []
    }
  ]
}